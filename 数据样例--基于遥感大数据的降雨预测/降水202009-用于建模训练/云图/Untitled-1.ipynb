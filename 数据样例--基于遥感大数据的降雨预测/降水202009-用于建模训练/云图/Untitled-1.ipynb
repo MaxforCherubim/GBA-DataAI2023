{
 "cells": [
  {
   "cell_type": "code",
   "execution_count": 1,
   "metadata": {},
   "outputs": [],
   "source": [
    "from osgeo import gdal\n",
    "import matplotlib.pyplot as plt\n",
    "import cv2\n",
    "import numpy as np"
   ]
  },
  {
   "cell_type": "code",
   "execution_count": 2,
   "metadata": {},
   "outputs": [],
   "source": [
    "fast=cv2.FastFeatureDetector_create()\n",
    "sift=cv2.SIFT_create()\n",
    "bf=cv2.BFMatcher(cv2.NORM_HAMMING, crossCheck=True)"
   ]
  },
  {
   "cell_type": "code",
   "execution_count": 3,
   "metadata": {},
   "outputs": [],
   "source": [
    "com_name='AHI8_OBI_2000M_NOM_'\n",
    "time_point='20200901'\n",
    "name_list=['_0000','_0020','_0040']"
   ]
  },
  {
   "cell_type": "code",
   "execution_count": 4,
   "metadata": {},
   "outputs": [],
   "source": [
    "\n",
    "raster=gdal.Open(com_name+time_point+name_list[0]+'.tif')\n",
    "odata=raster.ReadAsArray()\n",
    "array0=odata[0]\n",
    "#TODO 储存为图片\n",
    "plt.imsave(time_point+name_list[0]+'[0]'+'.png',array0)\n",
    "#TODO 转化为灰度图img\n",
    "img=cv2.imread(time_point+name_list[0]+'[0]'+'.png',0)\n",
    "#TODO 储存灰度图\n",
    "cv2.imwrite(time_point+name_list[0]+'[0]'+'_gray'+'.png',img)\n",
    "kps=fast.detect(img,None)\n",
    "img_key=cv2.drawKeypoints(img,kps,img)\n",
    "cv2.imwrite(time_point+name_list[0]+'[0]'+'_key'+'.png',img_key)\n",
    "kps1,des1=sift.compute(img,kps)\n",
    "des1=des1.astype(np.uint8)"
   ]
  },
  {
   "cell_type": "code",
   "execution_count": 5,
   "metadata": {},
   "outputs": [],
   "source": [
    "raster=gdal.Open(com_name+time_point+name_list[1]+'.tif')\n",
    "odata=raster.ReadAsArray()\n",
    "array0=odata[0]\n",
    "#TODO 储存为图片\n",
    "plt.imsave(time_point+name_list[1]+'[0]'+'.png',array0)\n",
    "#TODO 转化为灰度图img\n",
    "img=cv2.imread(time_point+name_list[1]+'[0]'+'.png',0)\n",
    "#TODO 储存灰度图\n",
    "cv2.imwrite(time_point+name_list[1]+'[0]'+'_gray'+'.png',img)\n",
    "kps=fast.detect(img,None)\n",
    "img_key=cv2.drawKeypoints(img,kps,img)\n",
    "cv2.imwrite(time_point+name_list[1]+'[0]'+'_key'+'.png',img_key)\n",
    "kps2,des2=sift.compute(img,kps)\n",
    "des2=des2.astype(np.uint8)"
   ]
  },
  {
   "cell_type": "code",
   "execution_count": null,
   "metadata": {},
   "outputs": [],
   "source": []
  },
  {
   "cell_type": "code",
   "execution_count": 6,
   "metadata": {},
   "outputs": [
    {
     "data": {
      "text/plain": [
       "(148.0, 3.0)"
      ]
     },
     "execution_count": 6,
     "metadata": {},
     "output_type": "execute_result"
    }
   ],
   "source": [
    "kps1[0].pt"
   ]
  },
  {
   "cell_type": "code",
   "execution_count": 7,
   "metadata": {},
   "outputs": [
    {
     "data": {
      "text/plain": [
       "numpy.ndarray"
      ]
     },
     "execution_count": 7,
     "metadata": {},
     "output_type": "execute_result"
    }
   ],
   "source": [
    "type(des1)"
   ]
  },
  {
   "cell_type": "code",
   "execution_count": 8,
   "metadata": {},
   "outputs": [
    {
     "data": {
      "text/plain": [
       "((2230, 128), (2184, 128))"
      ]
     },
     "execution_count": 8,
     "metadata": {},
     "output_type": "execute_result"
    }
   ],
   "source": [
    "des1.shape,des2.shape"
   ]
  },
  {
   "cell_type": "code",
   "execution_count": 9,
   "metadata": {},
   "outputs": [
    {
     "data": {
      "text/plain": [
       "list"
      ]
     },
     "execution_count": 9,
     "metadata": {},
     "output_type": "execute_result"
    }
   ],
   "source": [
    "matches=bf.match(des1,des2)\n",
    "matches=sorted(matches,key=lambda x:x.distance)\n",
    "type(matches)"
   ]
  },
  {
   "cell_type": "code",
   "execution_count": 10,
   "metadata": {},
   "outputs": [],
   "source": [
    "desc1=np.array([d/np.linalg.norm(d) for d in des1])\n",
    "desc2=np.array([d/np.linalg.norm(d) for d in des2])"
   ]
  },
  {
   "cell_type": "code",
   "execution_count": 11,
   "metadata": {},
   "outputs": [
    {
     "data": {
      "text/plain": [
       "((2230, 128), (2184, 128))"
      ]
     },
     "execution_count": 11,
     "metadata": {},
     "output_type": "execute_result"
    }
   ],
   "source": [
    "#TODO np.linalg.norm为线性代数求范数，默认为2范数\n",
    "#TODO desc1实际是array，结果发现desc1经过列表循环再转换array，行列保持不变\n",
    "desc1.shape,desc2.shape"
   ]
  },
  {
   "cell_type": "code",
   "execution_count": 12,
   "metadata": {},
   "outputs": [
    {
     "data": {
      "text/plain": [
       "(2184,)"
      ]
     },
     "execution_count": 12,
     "metadata": {},
     "output_type": "execute_result"
    }
   ],
   "source": [
    "#TODO np.dot()若参数有矩阵则进行矩阵乘法\n",
    "dotprods=np.dot(desc1[0,:],desc2.T)\n",
    "#TODO desc1[i,:]为1x128,desc2.T为128x2184，二者矩阵乘法得1x2184\n",
    "dotprods.shape"
   ]
  },
  {
   "cell_type": "code",
   "execution_count": 13,
   "metadata": {},
   "outputs": [
    {
     "data": {
      "text/plain": [
       "array([0.63249535, 0.62758799, 0.63345909, ..., 0.14760153, 0.16787075,\n",
       "       0.24655688])"
      ]
     },
     "execution_count": 13,
     "metadata": {},
     "output_type": "execute_result"
    }
   ],
   "source": [
    "dotprods"
   ]
  },
  {
   "cell_type": "code",
   "execution_count": 14,
   "metadata": {},
   "outputs": [
    {
     "data": {
      "text/plain": [
       "array([0.88602572, 0.89234509, 0.88478085, ..., 1.42265353, 1.40212696,\n",
       "       1.32167048])"
      ]
     },
     "execution_count": 14,
     "metadata": {},
     "output_type": "execute_result"
    }
   ],
   "source": [
    "#dotprods=0.9999*dotprods\n",
    "#TODO np.arccos()\n",
    "index=np.argsort(np.arccos(dotprods))\n",
    "np.arccos(dotprods)"
   ]
  },
  {
   "cell_type": "code",
   "execution_count": 15,
   "metadata": {},
   "outputs": [
    {
     "data": {
      "text/plain": [
       "array([   9, 1662, 1672, ..., 2172, 2177, 2176], dtype=int64)"
      ]
     },
     "execution_count": 15,
     "metadata": {},
     "output_type": "execute_result"
    }
   ],
   "source": [
    "index"
   ]
  },
  {
   "cell_type": "code",
   "execution_count": 16,
   "metadata": {},
   "outputs": [
    {
     "data": {
      "text/plain": [
       "0.7988677313120247"
      ]
     },
     "execution_count": 16,
     "metadata": {},
     "output_type": "execute_result"
    }
   ],
   "source": [
    "np.arccos(dotprods)[index[9]]"
   ]
  },
  {
   "cell_type": "code",
   "execution_count": 17,
   "metadata": {},
   "outputs": [
    {
     "data": {
      "text/plain": [
       "array([   9,    9,    9, ..., 2156, 2183, 2183])"
      ]
     },
     "execution_count": 17,
     "metadata": {},
     "output_type": "execute_result"
    }
   ],
   "source": [
    "matchscores=np.zeros((desc1.shape[0]),'int')\n",
    "for j in range(desc1.shape[0]):\n",
    "    dotprods=np.dot(desc1[j,:],desc2.T)\n",
    "    index_angles=np.argsort(np.arccos(dotprods))\n",
    "    if np.arccos(dotprods)[index_angles[0]]<0.95*np.arccos(dotprods)[index[1]]:\n",
    "        matchscores[j]=index_angles[0]\n",
    "matchscores"
   ]
  },
  {
   "cell_type": "code",
   "execution_count": 18,
   "metadata": {},
   "outputs": [
    {
     "data": {
      "text/plain": [
       "(2230,)"
      ]
     },
     "execution_count": 18,
     "metadata": {},
     "output_type": "execute_result"
    }
   ],
   "source": [
    "matchscores.shape"
   ]
  },
  {
   "cell_type": "code",
   "execution_count": 19,
   "metadata": {},
   "outputs": [
    {
     "data": {
      "text/plain": [
       "0.9297108065224793"
      ]
     },
     "execution_count": 19,
     "metadata": {},
     "output_type": "execute_result"
    }
   ],
   "source": [
    "dotprods.max()"
   ]
  },
  {
   "cell_type": "code",
   "execution_count": 20,
   "metadata": {},
   "outputs": [
    {
     "data": {
      "text/plain": [
       "array([1.41511058, 1.30229342, 1.38626653, ..., 1.07577228, 1.11698363,\n",
       "       0.37716949])"
      ]
     },
     "execution_count": 20,
     "metadata": {},
     "output_type": "execute_result"
    }
   ],
   "source": [
    "np.arccos(dotprods)"
   ]
  },
  {
   "cell_type": "code",
   "execution_count": 21,
   "metadata": {},
   "outputs": [
    {
     "data": {
      "text/plain": [
       "(array([   0,    1,    2, ..., 2227, 2228, 2229], dtype=int64),)"
      ]
     },
     "execution_count": 21,
     "metadata": {},
     "output_type": "execute_result"
    }
   ],
   "source": [
    "matchscores.nonzero()"
   ]
  },
  {
   "cell_type": "code",
   "execution_count": 22,
   "metadata": {},
   "outputs": [
    {
     "data": {
      "text/plain": [
       "(2229,)"
      ]
     },
     "execution_count": 22,
     "metadata": {},
     "output_type": "execute_result"
    }
   ],
   "source": [
    "matchscores.nonzero()[0].shape"
   ]
  },
  {
   "cell_type": "code",
   "execution_count": 23,
   "metadata": {},
   "outputs": [
    {
     "data": {
      "text/plain": [
       "array([[1, 0, 2],\n",
       "       [3, 5, 0]])"
      ]
     },
     "execution_count": 23,
     "metadata": {},
     "output_type": "execute_result"
    }
   ],
   "source": [
    "np.array([1,0,2,3,5,0]).reshape(2,3)"
   ]
  },
  {
   "cell_type": "code",
   "execution_count": 24,
   "metadata": {},
   "outputs": [
    {
     "data": {
      "text/plain": [
       "(array([0, 0, 1, 1], dtype=int64), array([0, 2, 0, 1], dtype=int64))"
      ]
     },
     "execution_count": 24,
     "metadata": {},
     "output_type": "execute_result"
    }
   ],
   "source": [
    "np.array([1,0,2,3,5,0]).reshape(2,3).nonzero()"
   ]
  },
  {
   "cell_type": "code",
   "execution_count": 27,
   "metadata": {},
   "outputs": [
    {
     "data": {
      "text/plain": [
       "array([1, 2, 3, 5])"
      ]
     },
     "execution_count": 27,
     "metadata": {},
     "output_type": "execute_result"
    }
   ],
   "source": [
    "good_match=np.array([1,0,2,3,5,0])\n",
    "good_match[good_match>0]"
   ]
  }
 ],
 "metadata": {
  "kernelspec": {
   "display_name": "GBA-DataAI",
   "language": "python",
   "name": "python3"
  },
  "language_info": {
   "codemirror_mode": {
    "name": "ipython",
    "version": 3
   },
   "file_extension": ".py",
   "mimetype": "text/x-python",
   "name": "python",
   "nbconvert_exporter": "python",
   "pygments_lexer": "ipython3",
   "version": "3.11.4"
  }
 },
 "nbformat": 4,
 "nbformat_minor": 2
}
